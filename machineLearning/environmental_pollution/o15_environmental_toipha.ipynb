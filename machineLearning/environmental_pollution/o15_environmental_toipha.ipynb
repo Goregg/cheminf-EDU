{
  "nbformat": 4,
  "nbformat_minor": 0,
  "metadata": {
    "colab": {
      "provenance": []
    },
    "kernelspec": {
      "name": "python3",
      "display_name": "Python 3"
    },
    "language_info": {
      "name": "python"
    }
  },
  "cells": [
    {
      "cell_type": "code",
      "source": [
        "!pip install sqlalchemy"
      ],
      "metadata": {
        "colab": {
          "base_uri": "https://localhost:8080/"
        },
        "id": "9NIk6uh_o2Qm",
        "outputId": "b6d902b9-5935-454e-c288-00a8ee43af95"
      },
      "execution_count": 16,
      "outputs": [
        {
          "output_type": "stream",
          "name": "stdout",
          "text": [
            "Requirement already satisfied: sqlalchemy in /usr/local/lib/python3.10/dist-packages (2.0.30)\n",
            "Requirement already satisfied: typing-extensions>=4.6.0 in /usr/local/lib/python3.10/dist-packages (from sqlalchemy) (4.11.0)\n",
            "Requirement already satisfied: greenlet!=0.4.17 in /usr/local/lib/python3.10/dist-packages (from sqlalchemy) (3.0.3)\n"
          ]
        }
      ]
    },
    {
      "cell_type": "code",
      "execution_count": 17,
      "metadata": {
        "id": "ymDm-UTuozIS",
        "is_executing": true
      },
      "outputs": [],
      "source": [
        "import pymysql.cursors\n",
        "from sqlalchemy import create_engine"
      ]
    },
    {
      "cell_type": "code",
      "source": [
        "host = 'den1.mysql6.gear.host'\n",
        "db = 'situation'\n",
        "usr = 'situation'\n",
        "psword = 'cogni88.'\n",
        "\n",
        "# Connect to the database\n",
        "engine = create_engine('mysql+pymysql://%s:%s@%s:%s/%s?charset=utf8'\n",
        "                       % (usr, psword, host, '3306', db))\n"
      ],
      "metadata": {
        "id": "uREGQO5oo6kn"
      },
      "execution_count": 18,
      "outputs": []
    },
    {
      "cell_type": "code",
      "source": [
        "import pandas as pd"
      ],
      "metadata": {
        "id": "uc00c1w1pJhN"
      },
      "execution_count": 4,
      "outputs": []
    },
    {
      "cell_type": "code",
      "source": [
        "UserId = 'toipha'\n",
        "sql = \"SELECT * FROM situation.o15_environmental_data;\"\n",
        "\n",
        "# with connection.cursor() as cursor:\n",
        "#   cursor.execute(sql % UserId)\n",
        "\n",
        "df_raw = pd.read_sql(sql, engine)\n",
        "print(df_raw)"
      ],
      "metadata": {
        "colab": {
          "base_uri": "https://localhost:8080/"
        },
        "id": "itWlKrwgpFUh",
        "outputId": "f8310167-1be4-4dcf-9de8-4fa716904fcc"
      },
      "execution_count": 19,
      "outputs": [
        {
          "output_type": "stream",
          "name": "stdout",
          "text": [
            "    id          location           timestamp     image_url   NO2  PM2_5  PM10  \\\n",
            "0    1      New York, NY 2024-04-30 12:00:00   image_url_1  24.5   15.0  20.0   \n",
            "1    2   Los Angeles, CA 2024-04-30 13:00:00   image_url_2  20.0   25.0  30.0   \n",
            "2    3       Chicago, IL 2024-04-30 14:00:00   image_url_3  18.0   20.0  25.0   \n",
            "3    4       Houston, TX 2024-04-30 15:00:00   image_url_4  22.0   23.0  27.0   \n",
            "4    5       Phoenix, AZ 2024-04-30 16:00:00   image_url_5  10.0   12.0  15.0   \n",
            "5    6  Philadelphia, PA 2024-04-30 17:00:00   image_url_6  25.0   16.0  22.0   \n",
            "6    7   San Antonio, TX 2024-04-30 18:00:00   image_url_7  21.0   18.0  24.0   \n",
            "7    8     San Diego, CA 2024-04-30 19:00:00   image_url_8  19.0   14.0  19.0   \n",
            "8    9        Dallas, TX 2024-04-30 20:00:00   image_url_9  23.0   21.0  26.0   \n",
            "9   10      San Jose, CA 2024-04-30 21:00:00  image_url_10  15.0   13.0  18.0   \n",
            "10  11        Austin, TX 2024-04-30 22:00:00  image_url_11  17.0   22.0  23.0   \n",
            "11  12  Jacksonville, FL 2024-04-30 23:00:00  image_url_12  24.0   24.0  29.0   \n",
            "12  13    Fort Worth, TX 2024-05-01 00:00:00  image_url_13  20.0   17.0  21.0   \n",
            "13  14      Columbus, OH 2024-05-01 01:00:00  image_url_14  16.0   15.0  20.0   \n",
            "14  15     Charlotte, NC 2024-05-01 02:00:00  image_url_15  18.0   19.0  24.0   \n",
            "15  16       Detroit, MI 2024-05-01 03:00:00  image_url_16  22.0   20.0  25.0   \n",
            "16  17       El Paso, TX 2024-05-01 04:00:00  image_url_17  21.0   23.0  28.0   \n",
            "17  18       Memphis, TN 2024-05-01 05:00:00  image_url_18  19.0   18.0  22.0   \n",
            "18  19        Boston, MA 2024-05-01 06:00:00  image_url_19  23.0   21.0  26.0   \n",
            "19  20       Seattle, WA 2024-05-01 07:00:00  image_url_20  17.0   25.0  30.0   \n",
            "20  21        Denver, CO 2024-05-01 08:00:00  image_url_21  24.0   16.0  20.0   \n",
            "21  22    Washington, DC 2024-05-01 09:00:00  image_url_22  20.0   20.0  25.0   \n",
            "22  23     Nashville, TN 2024-05-01 10:00:00  image_url_23  22.0   22.0  27.0   \n",
            "23  24     Baltimore, MD 2024-05-01 11:00:00  image_url_24  18.0   19.0  23.0   \n",
            "24  25    Louisville, KY 2024-05-01 12:00:00  image_url_25  21.0   17.0  21.0   \n",
            "25  26      Portland, OR 2024-05-01 13:00:00  image_url_26  23.0   15.0  20.0   \n",
            "\n",
            "     CO    O3   SO2  temperature  humidity  wind_speed wind_direction  \\\n",
            "0   0.6  30.0  10.0         22.0      45.0         5.0             NE   \n",
            "1   0.3  28.0   9.0         19.0      50.0         3.5             SW   \n",
            "2   0.5  34.0   8.0         16.0      55.0         4.0             NW   \n",
            "3   0.7  32.0  12.0         28.0      40.0         2.0              S   \n",
            "4   0.4  40.0   7.0         35.0      25.0         6.0             SE   \n",
            "5   0.8  36.0  11.0         24.0      48.0         5.5              E   \n",
            "6   0.3  25.0  10.0         21.0      60.0         7.0             NE   \n",
            "7   0.5  38.0   6.0         27.0      35.0         3.0              W   \n",
            "8   0.6  29.0  13.0         30.0      42.0         4.5             SW   \n",
            "9   0.2  31.0   9.0         18.0      55.0         2.0             NW   \n",
            "10  0.4  33.0   8.0         20.0      53.0         3.5             SE   \n",
            "11  0.7  27.0  14.0         26.0      47.0         6.0              E   \n",
            "12  0.3  35.0  10.0         23.0      52.0         5.0             NE   \n",
            "13  0.5  32.0   7.0         17.0      60.0         7.0              W   \n",
            "14  0.6  30.0   6.0         25.0      50.0         4.5             SW   \n",
            "15  0.8  28.0  11.0         21.0      45.0         2.0             NW   \n",
            "16  0.4  36.0  12.0         29.0      40.0         3.0              S   \n",
            "17  0.7  34.0   9.0         27.0      55.0         6.0             SE   \n",
            "18  0.5  29.0  10.0         16.0      48.0         5.5              E   \n",
            "19  0.2  31.0   8.0         19.0      60.0         4.0             NE   \n",
            "20  0.3  33.0   7.0         28.0      35.0         2.0              W   \n",
            "21  0.6  35.0  13.0         24.0      42.0         3.5             SW   \n",
            "22  0.4  27.0  14.0         22.0      53.0         7.0             NW   \n",
            "23  0.8  36.0  11.0         30.0      47.0         5.0              S   \n",
            "24  0.5  38.0   6.0         35.0      50.0         4.5             SE   \n",
            "25  0.7  34.0   9.0         18.0      45.0         3.0              E   \n",
            "\n",
            "    precipitation  \n",
            "0             0.0  \n",
            "1             0.0  \n",
            "2             0.1  \n",
            "3             0.0  \n",
            "4             0.0  \n",
            "5             0.0  \n",
            "6             0.0  \n",
            "7             0.0  \n",
            "8             0.1  \n",
            "9             0.0  \n",
            "10            0.0  \n",
            "11            0.1  \n",
            "12            0.0  \n",
            "13            0.0  \n",
            "14            0.0  \n",
            "15            0.1  \n",
            "16            0.0  \n",
            "17            0.0  \n",
            "18            0.1  \n",
            "19            0.0  \n",
            "20            0.0  \n",
            "21            0.0  \n",
            "22            0.1  \n",
            "23            0.0  \n",
            "24            0.0  \n",
            "25            0.0  \n"
          ]
        }
      ]
    }
  ]
}