{
  "nbformat": 4,
  "nbformat_minor": 0,
  "metadata": {
    "colab": {
      "provenance": [],
      "authorship_tag": "ABX9TyN4ksWYSWohEOt24LyCfNqZ",
      "include_colab_link": true
    },
    "kernelspec": {
      "name": "python3",
      "display_name": "Python 3"
    },
    "language_info": {
      "name": "python"
    }
  },
  "cells": [
    {
      "cell_type": "markdown",
      "metadata": {
        "id": "view-in-github",
        "colab_type": "text"
      },
      "source": [
        "<a href=\"https://colab.research.google.com/github/Gressling/cheminformatics/blob/main/REST_to_Cheminformatics_EDU.ipynb\" target=\"_parent\"><img src=\"https://colab.research.google.com/assets/colab-badge.svg\" alt=\"Open In Colab\"/></a>"
      ]
    },
    {
      "cell_type": "code",
      "execution_count": null,
      "metadata": {
        "colab": {
          "base_uri": "https://localhost:8080/"
        },
        "id": "44AXW_Ba4HW5",
        "outputId": "2e2f79b1-6e49-4ab6-91d9-4c846ec44e13"
      },
      "outputs": [
        {
          "output_type": "stream",
          "name": "stdout",
          "text": [
            "{'message': 'Access granted', 'data': {'info': 'This is a secured data example'}}\n"
          ]
        }
      ],
      "source": [
        "import requests\n",
        "\n",
        "url = \"http://gressling.net/v2/api.php\"\n",
        "\n",
        "query = {\n",
        "  \"apiKey\": \"242KKlhkh899\" # Replace with your actual API key\n",
        "}\n",
        "\n",
        "response = requests.get(url, params=query)\n",
        "\n",
        "data = response.json()\n",
        "print(data)"
      ]
    }
  ]
}