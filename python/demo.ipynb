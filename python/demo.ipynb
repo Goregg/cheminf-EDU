{
 "cells": [
  {
   "cell_type": "code",
   "execution_count": 1,
   "metadata": {},
   "outputs": [],
   "source": [
    "# !pip install gressling --upgrade"
   ]
  },
  {
   "cell_type": "code",
   "execution_count": 1,
   "metadata": {},
   "outputs": [
    {
     "name": "stdout",
     "output_type": "stream",
     "text": [
      "Hello, World!\n"
     ]
    }
   ],
   "source": [
    "from cheminformatics import utils as u\n",
    "u.hello()"
   ]
  },
  {
   "cell_type": "code",
   "execution_count": 3,
   "metadata": {},
   "outputs": [],
   "source": [
    "# deprecated\n",
    "from cheminformatics.edu import eln\n",
    "# eln.getExperiments()"
   ]
  },
  {
   "cell_type": "code",
   "execution_count": 17,
   "metadata": {},
   "outputs": [],
   "source": [
    "from cheminformatics.tools.LLM import Experiment as e"
   ]
  },
  {
   "cell_type": "code",
   "execution_count": null,
   "metadata": {},
   "outputs": [],
   "source": []
  },
  {
   "cell_type": "code",
   "execution_count": 18,
   "metadata": {},
   "outputs": [
    {
     "data": {
      "text/plain": [
       "'not implemented'"
      ]
     },
     "execution_count": 18,
     "metadata": {},
     "output_type": "execute_result"
    }
   ],
   "source": [
    "e.impute(\"test\")"
   ]
  },
  {
   "cell_type": "code",
   "execution_count": 1,
   "metadata": {},
   "outputs": [],
   "source": [
    "from cheminformatics.edu import EDUInstance"
   ]
  },
  {
   "cell_type": "code",
   "execution_count": 2,
   "metadata": {},
   "outputs": [
    {
     "name": "stdout",
     "output_type": "stream",
     "text": [
      "Connected to EDU system.\n"
     ]
    }
   ],
   "source": [
    "# conect to EDU system\n",
    "tg = EDUInstance(RESTURL=\"http://gressling.net/v2/\", apiKey=\"242KKlhkh899\") # Replace with your actual API key\n",
    "if tg.connect():\n",
    "    tg.testAccess()\n",
    "    print(\"Connected to EDU system.\")\n",
    "else:\n",
    "    print(\"Unable to connect to the EDU system.\")"
   ]
  },
  {
   "cell_type": "code",
   "execution_count": 3,
   "metadata": {},
   "outputs": [
    {
     "data": {
      "text/plain": [
       "{'message': 'Access granted',\n",
       " 'data': {'info': 'This is a secured data example'}}"
      ]
     },
     "execution_count": 3,
     "metadata": {},
     "output_type": "execute_result"
    }
   ],
   "source": [
    "tg.testData()"
   ]
  },
  {
   "cell_type": "code",
   "execution_count": 4,
   "metadata": {},
   "outputs": [
    {
     "data": {
      "text/html": [
       "<div>\n",
       "<style scoped>\n",
       "    .dataframe tbody tr th:only-of-type {\n",
       "        vertical-align: middle;\n",
       "    }\n",
       "\n",
       "    .dataframe tbody tr th {\n",
       "        vertical-align: top;\n",
       "    }\n",
       "\n",
       "    .dataframe thead th {\n",
       "        text-align: right;\n",
       "    }\n",
       "</style>\n",
       "<table border=\"1\" class=\"dataframe\">\n",
       "  <thead>\n",
       "    <tr style=\"text-align: right;\">\n",
       "      <th></th>\n",
       "      <th>Number</th>\n",
       "      <th>Workflow_ID</th>\n",
       "      <th>CreateDate</th>\n",
       "      <th>Cost</th>\n",
       "      <th>Purpose</th>\n",
       "      <th>FKEY_USER</th>\n",
       "    </tr>\n",
       "  </thead>\n",
       "  <tbody>\n",
       "    <tr>\n",
       "      <th>0</th>\n",
       "      <td>1</td>\n",
       "      <td>1</td>\n",
       "      <td>2023-01-23 14:02:46</td>\n",
       "      <td>10.37</td>\n",
       "      <td>To synthesize aspirin via esterification</td>\n",
       "      <td>1</td>\n",
       "    </tr>\n",
       "    <tr>\n",
       "      <th>1</th>\n",
       "      <td>2</td>\n",
       "      <td>1</td>\n",
       "      <td>2023-09-13 14:02:46</td>\n",
       "      <td>18.37</td>\n",
       "      <td>To optimize reaction temperature</td>\n",
       "      <td>1</td>\n",
       "    </tr>\n",
       "    <tr>\n",
       "      <th>2</th>\n",
       "      <td>3</td>\n",
       "      <td>1</td>\n",
       "      <td>2023-06-22 14:02:46</td>\n",
       "      <td>8.27</td>\n",
       "      <td>To test the effect of catalyst amount</td>\n",
       "      <td>1</td>\n",
       "    </tr>\n",
       "    <tr>\n",
       "      <th>3</th>\n",
       "      <td>4</td>\n",
       "      <td>1</td>\n",
       "      <td>2023-10-08 14:02:46</td>\n",
       "      <td>7.08</td>\n",
       "      <td>To assess the purity of aspirin</td>\n",
       "      <td>1</td>\n",
       "    </tr>\n",
       "    <tr>\n",
       "      <th>4</th>\n",
       "      <td>5</td>\n",
       "      <td>1</td>\n",
       "      <td>2023-10-21 14:02:46</td>\n",
       "      <td>7.09</td>\n",
       "      <td>To determine optimal reaction time</td>\n",
       "      <td>1</td>\n",
       "    </tr>\n",
       "  </tbody>\n",
       "</table>\n",
       "</div>"
      ],
      "text/plain": [
       "  Number Workflow_ID           CreateDate   Cost  \\\n",
       "0      1           1  2023-01-23 14:02:46  10.37   \n",
       "1      2           1  2023-09-13 14:02:46  18.37   \n",
       "2      3           1  2023-06-22 14:02:46   8.27   \n",
       "3      4           1  2023-10-08 14:02:46   7.08   \n",
       "4      5           1  2023-10-21 14:02:46   7.09   \n",
       "\n",
       "                                    Purpose FKEY_USER  \n",
       "0  To synthesize aspirin via esterification         1  \n",
       "1          To optimize reaction temperature         1  \n",
       "2     To test the effect of catalyst amount         1  \n",
       "3           To assess the purity of aspirin         1  \n",
       "4        To determine optimal reaction time         1  "
      ]
     },
     "execution_count": 4,
     "metadata": {},
     "output_type": "execute_result"
    }
   ],
   "source": [
    "df = tg.getExperiments()\n",
    "df.head()\n"
   ]
  },
  {
   "cell_type": "code",
   "execution_count": 20,
   "metadata": {},
   "outputs": [
    {
     "data": {
      "text/plain": [
       "'not implemented'"
      ]
     },
     "execution_count": 20,
     "metadata": {},
     "output_type": "execute_result"
    }
   ],
   "source": [
    "e.impute(df.query(\"Number == '2'\"))"
   ]
  },
  {
   "cell_type": "code",
   "execution_count": 7,
   "metadata": {},
   "outputs": [],
   "source": [
    "import requests"
   ]
  },
  {
   "cell_type": "code",
   "execution_count": 8,
   "metadata": {},
   "outputs": [],
   "source": [
    "url = f\"{tg.RESTURL}A1/A1.php\"\n",
    "query = {\"apiKey\": tg.apiKey}\n",
    "response = requests.get(url, params=query)\n",
    "json_data = response.json()\n"
   ]
  },
  {
   "cell_type": "code",
   "execution_count": 9,
   "metadata": {},
   "outputs": [
    {
     "data": {
      "text/plain": [
       "{'message': 'A1 Access granted',\n",
       " 'data': [{'Number': '1',\n",
       "   'Workflow_ID': '1',\n",
       "   'CreateDate': '2023-01-23 14:02:46',\n",
       "   'Cost': '10.37',\n",
       "   'Purpose': 'To synthesize aspirin via esterification',\n",
       "   'FKEY_USER': '1'},\n",
       "  {'Number': '2',\n",
       "   'Workflow_ID': '1',\n",
       "   'CreateDate': '2023-09-13 14:02:46',\n",
       "   'Cost': '18.37',\n",
       "   'Purpose': 'To optimize reaction temperature',\n",
       "   'FKEY_USER': '1'},\n",
       "  {'Number': '3',\n",
       "   'Workflow_ID': '1',\n",
       "   'CreateDate': '2023-06-22 14:02:46',\n",
       "   'Cost': '8.27',\n",
       "   'Purpose': 'To test the effect of catalyst amount',\n",
       "   'FKEY_USER': '1'},\n",
       "  {'Number': '4',\n",
       "   'Workflow_ID': '1',\n",
       "   'CreateDate': '2023-10-08 14:02:46',\n",
       "   'Cost': '7.08',\n",
       "   'Purpose': 'To assess the purity of aspirin',\n",
       "   'FKEY_USER': '1'},\n",
       "  {'Number': '5',\n",
       "   'Workflow_ID': '1',\n",
       "   'CreateDate': '2023-10-21 14:02:46',\n",
       "   'Cost': '7.09',\n",
       "   'Purpose': 'To determine optimal reaction time',\n",
       "   'FKEY_USER': '1'},\n",
       "  {'Number': '6',\n",
       "   'Workflow_ID': '1',\n",
       "   'CreateDate': '2022-12-12 14:02:46',\n",
       "   'Cost': '6.42',\n",
       "   'Purpose': 'To compare solvent effects',\n",
       "   'FKEY_USER': '1'},\n",
       "  {'Number': '7',\n",
       "   'Workflow_ID': '1',\n",
       "   'CreateDate': '2023-06-11 14:02:46',\n",
       "   'Cost': '12.98',\n",
       "   'Purpose': 'To evaluate different acid anhydride sources',\n",
       "   'FKEY_USER': '1'},\n",
       "  {'Number': '8',\n",
       "   'Workflow_ID': '1',\n",
       "   'CreateDate': '2023-03-31 14:02:46',\n",
       "   'Cost': '17.57',\n",
       "   'Purpose': 'To test scalability of the synthesis process',\n",
       "   'FKEY_USER': '1'},\n",
       "  {'Number': '9',\n",
       "   'Workflow_ID': '1',\n",
       "   'CreateDate': '2023-02-14 14:02:46',\n",
       "   'Cost': '12.98',\n",
       "   'Purpose': 'To examine the influence of reaction vessel shape',\n",
       "   'FKEY_USER': '1'},\n",
       "  {'Number': '10',\n",
       "   'Workflow_ID': '1',\n",
       "   'CreateDate': '2023-10-07 14:02:46',\n",
       "   'Cost': '15.57',\n",
       "   'Purpose': 'To investigate the storage stability of aspirin',\n",
       "   'FKEY_USER': '1'}]}"
      ]
     },
     "execution_count": 9,
     "metadata": {},
     "output_type": "execute_result"
    }
   ],
   "source": [
    "json_data"
   ]
  },
  {
   "cell_type": "code",
   "execution_count": null,
   "metadata": {},
   "outputs": [],
   "source": []
  }
 ],
 "metadata": {
  "kernelspec": {
   "display_name": "Python 3",
   "language": "python",
   "name": "python3"
  },
  "language_info": {
   "codemirror_mode": {
    "name": "ipython",
    "version": 3
   },
   "file_extension": ".py",
   "mimetype": "text/x-python",
   "name": "python",
   "nbconvert_exporter": "python",
   "pygments_lexer": "ipython3",
   "version": "3.11.7"
  }
 },
 "nbformat": 4,
 "nbformat_minor": 2
}
